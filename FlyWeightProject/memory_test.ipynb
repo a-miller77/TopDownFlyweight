{
 "cells": [
  {
   "cell_type": "code",
   "execution_count": 3,
   "metadata": {},
   "outputs": [
    {
     "ename": "ImportError",
     "evalue": "cannot import name 'normalize_vector' from 'Weapon' (c:\\Users\\milleraa\\OneDrive - Milwaukee School of Engineering\\Documents\\Programmer\\TopDownFlyweight\\FlyWeightProject\\Weapon.py)",
     "output_type": "error",
     "traceback": [
      "\u001b[1;31m---------------------------------------------------------------------------\u001b[0m",
      "\u001b[1;31mImportError\u001b[0m                               Traceback (most recent call last)",
      "\u001b[1;32mc:\\Users\\milleraa\\OneDrive - Milwaukee School of Engineering\\Documents\\Programmer\\TopDownFlyweight\\FlyWeightProject\\memory_test.ipynb Cell 1\u001b[0m line \u001b[0;36m1\n\u001b[1;32m----> <a href='vscode-notebook-cell:/c%3A/Users/milleraa/OneDrive%20-%20Milwaukee%20School%20of%20Engineering/Documents/Programmer/TopDownFlyweight/FlyWeightProject/memory_test.ipynb#W0sZmlsZQ%3D%3D?line=0'>1</a>\u001b[0m \u001b[39mimport\u001b[39;00m \u001b[39mEnemy\u001b[39;00m\n\u001b[0;32m      <a href='vscode-notebook-cell:/c%3A/Users/milleraa/OneDrive%20-%20Milwaukee%20School%20of%20Engineering/Documents/Programmer/TopDownFlyweight/FlyWeightProject/memory_test.ipynb#W0sZmlsZQ%3D%3D?line=1'>2</a>\u001b[0m \u001b[39mimport\u001b[39;00m \u001b[39mobjgraph\u001b[39;00m\n",
      "File \u001b[1;32mc:\\Users\\milleraa\\OneDrive - Milwaukee School of Engineering\\Documents\\Programmer\\TopDownFlyweight\\FlyWeightProject\\Enemy.py:4\u001b[0m\n\u001b[0;32m      2\u001b[0m \u001b[39mimport\u001b[39;00m \u001b[39mmath\u001b[39;00m\n\u001b[0;32m      3\u001b[0m \u001b[39mfrom\u001b[39;00m \u001b[39mProjectile\u001b[39;00m \u001b[39mimport\u001b[39;00m Projectile\n\u001b[1;32m----> 4\u001b[0m \u001b[39mfrom\u001b[39;00m \u001b[39mWeapon\u001b[39;00m \u001b[39mimport\u001b[39;00m normalize_vector\n\u001b[0;32m      5\u001b[0m \u001b[39mimport\u001b[39;00m \u001b[39mWeaponFactory\u001b[39;00m\n\u001b[0;32m      7\u001b[0m \u001b[39mclass\u001b[39;00m \u001b[39mEnemyFlyweight\u001b[39;00m():\n",
      "\u001b[1;31mImportError\u001b[0m: cannot import name 'normalize_vector' from 'Weapon' (c:\\Users\\milleraa\\OneDrive - Milwaukee School of Engineering\\Documents\\Programmer\\TopDownFlyweight\\FlyWeightProject\\Weapon.py)"
     ]
    }
   ],
   "source": [
    "import Enemy\n",
    "import objgraph"
   ]
  },
  {
   "cell_type": "code",
   "execution_count": null,
   "metadata": {},
   "outputs": [],
   "source": [
    "objgraph.show_refs([Enemy()])"
   ]
  }
 ],
 "metadata": {
  "kernelspec": {
   "display_name": "env",
   "language": "python",
   "name": "python3"
  },
  "language_info": {
   "codemirror_mode": {
    "name": "ipython",
    "version": 3
   },
   "file_extension": ".py",
   "mimetype": "text/x-python",
   "name": "python",
   "nbconvert_exporter": "python",
   "pygments_lexer": "ipython3",
   "version": "3.11.5"
  }
 },
 "nbformat": 4,
 "nbformat_minor": 2
}
