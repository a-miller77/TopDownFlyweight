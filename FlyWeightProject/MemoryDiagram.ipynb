{
 "cells": [
  {
   "cell_type": "code",
   "execution_count": 28,
   "metadata": {},
   "outputs": [],
   "source": [
    "import objgraph \n",
    "import pygame\n",
    "from Projectile import Projectile, Bomb\n",
    "from Enemy import Enemy, EnemyFactory\n",
    "from Player import Player\n",
    "from  Weapon import WeaponFactory\n",
    "from Weapon import Weapon\n",
    "import gc"
   ]
  },
  {
   "cell_type": "code",
   "execution_count": 29,
   "metadata": {},
   "outputs": [],
   "source": [
    "class NoFlyWeightEnemy():\n",
    "    projectiles = pygame.sprite.Group()\n",
    "    def __init__(self, name: str, image: pygame.Surface, weapon_name: str, speed: float, \n",
    "                 default_health: int, pos: tuple[float, float]):\n",
    "        super().__init__()\n",
    "        self.image = pygame.transform.scale(pygame.image.load(\"./Images/smallEnemy.png\"), (50,50))\n",
    "        self.rect = self.image.get_rect()\n",
    "        self.speed = speed\n",
    "        self.weapon = WeaponFactory.get(weapon_name)\n",
    "\n",
    "        self.name = name\n",
    "        self.health = default_health\n",
    "        self.movement_vector = [0, 0]\n",
    "        self.pos = list(pos)\n",
    "        self.last_shot_time = pygame.time.get_ticks()\n",
    "        \n",
    "    def move(self, enemies: pygame.sprite.Group, player_pos: tuple[float, float], tDelta: float):\n",
    "        self.movement_vector = (player_pos[0] - self.pos[0],\n",
    "                               player_pos[1] - self.pos[1])\n",
    "        self.movement_vector = Weapon.normalize_vector(self.movementVector)\n",
    "        self.pos[0] += self.movement_vector[0] * self.speed * tDelta\n",
    "        self.pos[1] += self.movement_vector[1] * self.speed * tDelta\n",
    "        \n",
    "        # Collision test with other enemies\n",
    "        self.movementVector = [0, 0]\n",
    "        for sprite in enemies:\n",
    "            if sprite is self:\n",
    "                continue\n",
    "            if pygame.sprite.collide_circle(self, sprite):\n",
    "                self.movement_vector[0] += self.pos[0] - sprite.pos[0]\n",
    "                self.movement_vector[1] += self.pos[1] - sprite.pos[1]\n",
    "\n",
    "        self.movement_vector = Weapon.normalize_vector(self.movement_vector)\n",
    "        self.pos[0] += self.movement_vector[0] * 0.5  # The constant is how far the sprite will be\n",
    "        self.pos[1] += self.movement_vector[1] * 0.5  # dragged from the sprite it collided with\n",
    "        \n",
    "        self.rect.topleft = self.pos\n",
    "\n",
    "    def attack(self, target_pos):\n",
    "        self.weapon.attack(self, target_pos, self.last_shot_time)\n",
    "        self.last_shot_time = pygame.time.get_ticks()\n",
    "\n",
    "    def render(self, surface):\n",
    "        surface.blit(self.image, self.pos)\n",
    "    "
   ]
  },
  {
   "cell_type": "code",
   "execution_count": 30,
   "metadata": {},
   "outputs": [
    {
     "ename": "AttributeError",
     "evalue": "'NoneType' object has no attribute 'image'",
     "output_type": "error",
     "traceback": [
      "\u001b[1;31m---------------------------------------------------------------------------\u001b[0m",
      "\u001b[1;31mAttributeError\u001b[0m                            Traceback (most recent call last)",
      "\u001b[1;32mc:\\Users\\onoratoe\\OneDrive - Milwaukee School of Engineering\\Documents\\GitHub\\fall-2023-final-group-project-2pm-flyweight\\FlyWeightProject\\MemoryDiagram.ipynb Cell 3\u001b[0m line \u001b[0;36m2\n\u001b[0;32m      <a href='vscode-notebook-cell:/c%3A/Users/onoratoe/OneDrive%20-%20Milwaukee%20School%20of%20Engineering/Documents/GitHub/fall-2023-final-group-project-2pm-flyweight/FlyWeightProject/MemoryDiagram.ipynb#Y126sZmlsZQ%3D%3D?line=0'>1</a>\u001b[0m enemyFlyweight \u001b[39m=\u001b[39m EnemyFactory\u001b[39m.\u001b[39mget(\u001b[39m\"\u001b[39m\u001b[39msmall\u001b[39m\u001b[39m\"\u001b[39m)\n\u001b[1;32m----> <a href='vscode-notebook-cell:/c%3A/Users/onoratoe/OneDrive%20-%20Milwaukee%20School%20of%20Engineering/Documents/GitHub/fall-2023-final-group-project-2pm-flyweight/FlyWeightProject/MemoryDiagram.ipynb#Y126sZmlsZQ%3D%3D?line=1'>2</a>\u001b[0m enemy \u001b[39m=\u001b[39m Enemy(name \u001b[39m=\u001b[39;49m \u001b[39m\"\u001b[39;49m\u001b[39msmall\u001b[39;49m\u001b[39m\"\u001b[39;49m, pos\u001b[39m=\u001b[39;49m(\u001b[39m0\u001b[39;49m,\u001b[39m0\u001b[39;49m))\n\u001b[0;32m      <a href='vscode-notebook-cell:/c%3A/Users/onoratoe/OneDrive%20-%20Milwaukee%20School%20of%20Engineering/Documents/GitHub/fall-2023-final-group-project-2pm-flyweight/FlyWeightProject/MemoryDiagram.ipynb#Y126sZmlsZQ%3D%3D?line=2'>3</a>\u001b[0m no_flyweight_enemy \u001b[39m=\u001b[39m NoFlyWeightEnemy(name\u001b[39m=\u001b[39m\u001b[39m\"\u001b[39m\u001b[39msmall\u001b[39m\u001b[39m\"\u001b[39m, image\u001b[39m=\u001b[39mpygame\u001b[39m.\u001b[39mimage\u001b[39m.\u001b[39mload(\u001b[39m\"\u001b[39m\u001b[39m./Images/smallEnemy.png\u001b[39m\u001b[39m\"\u001b[39m), weapon_name\u001b[39m=\u001b[39m\u001b[39m\"\u001b[39m\u001b[39mmelee\u001b[39m\u001b[39m\"\u001b[39m, speed\u001b[39m=\u001b[39m\u001b[39m1\u001b[39m, default_health\u001b[39m=\u001b[39m\u001b[39m1\u001b[39m, pos\u001b[39m=\u001b[39m(\u001b[39m0\u001b[39m,\u001b[39m0\u001b[39m))\n\u001b[0;32m      <a href='vscode-notebook-cell:/c%3A/Users/onoratoe/OneDrive%20-%20Milwaukee%20School%20of%20Engineering/Documents/GitHub/fall-2023-final-group-project-2pm-flyweight/FlyWeightProject/MemoryDiagram.ipynb#Y126sZmlsZQ%3D%3D?line=4'>5</a>\u001b[0m gc\u001b[39m.\u001b[39mcollect()\n",
      "File \u001b[1;32mc:\\Users\\onoratoe\\OneDrive - Milwaukee School of Engineering\\Documents\\GitHub\\fall-2023-final-group-project-2pm-flyweight\\FlyWeightProject\\Enemy.py:46\u001b[0m, in \u001b[0;36mEnemy.__init__\u001b[1;34m(self, name, pos)\u001b[0m\n\u001b[0;32m     44\u001b[0m \u001b[39msuper\u001b[39m()\u001b[39m.\u001b[39m\u001b[39m__init__\u001b[39m()\n\u001b[0;32m     45\u001b[0m flyweight \u001b[39m=\u001b[39m EnemyFactory\u001b[39m.\u001b[39mget(name)\n\u001b[1;32m---> 46\u001b[0m \u001b[39mself\u001b[39m\u001b[39m.\u001b[39mimage \u001b[39m=\u001b[39m flyweight\u001b[39m.\u001b[39;49mimage\n\u001b[0;32m     47\u001b[0m \u001b[39mself\u001b[39m\u001b[39m.\u001b[39mrect \u001b[39m=\u001b[39m flyweight\u001b[39m.\u001b[39mrect\n\u001b[0;32m     48\u001b[0m \u001b[39mself\u001b[39m\u001b[39m.\u001b[39mradius \u001b[39m=\u001b[39m flyweight\u001b[39m.\u001b[39mradius\n",
      "\u001b[1;31mAttributeError\u001b[0m: 'NoneType' object has no attribute 'image'"
     ]
    }
   ],
   "source": [
    "enemyFlyweight = EnemyFactory.get(\"small\")\n",
    "enemy = Enemy(name = \"small\", pos=(0,0))\n",
    "no_flyweight_enemy = NoFlyWeightEnemy(name=\"small\", image=pygame.image.load(\"./Images/smallEnemy.png\"), weapon_name=\"melee\", speed=1, default_health=1, pos=(0,0))\n",
    "\n",
    "gc.collect()\n",
    "objgraph.show_refs([enemy, no_flyweight_enemy], filename='memory_graph.png')"
   ]
  },
  {
   "cell_type": "code",
   "execution_count": null,
   "metadata": {},
   "outputs": [],
   "source": []
  }
 ],
 "metadata": {
  "kernelspec": {
   "display_name": "Python 3",
   "language": "python",
   "name": "python3"
  },
  "language_info": {
   "codemirror_mode": {
    "name": "ipython",
    "version": 3
   },
   "file_extension": ".py",
   "mimetype": "text/x-python",
   "name": "python",
   "nbconvert_exporter": "python",
   "pygments_lexer": "ipython3",
   "version": "3.11.6"
  }
 },
 "nbformat": 4,
 "nbformat_minor": 2
}
