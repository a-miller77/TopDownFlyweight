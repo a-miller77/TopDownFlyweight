{
 "cells": [
  {
   "cell_type": "code",
   "execution_count": 1,
   "metadata": {},
   "outputs": [
    {
     "name": "stdout",
     "output_type": "stream",
     "text": [
      "pygame 2.5.2 (SDL 2.28.3, Python 3.11.6)\n",
      "Hello from the pygame community. https://www.pygame.org/contribute.html\n"
     ]
    }
   ],
   "source": [
    "import objgraph \n",
    "import pygame\n",
    "from Projectile import Projectile, Bomb\n",
    "from Enemy import Enemy, EnemyFactory\n",
    "from Player import Player\n",
    "from  Weapon import WeaponFactory\n",
    "from Weapon import Weapon\n",
    "import gc"
   ]
  },
  {
   "cell_type": "code",
   "execution_count": 2,
   "metadata": {},
   "outputs": [],
   "source": [
    "class NoFlyWeightEnemy():\n",
    "    projectiles = pygame.sprite.Group()\n",
    "    def __init__(self, name: str, image: pygame.Surface, weapon_name: str, speed: float, \n",
    "                 default_health: int, pos: tuple[float, float]):\n",
    "        super().__init__()\n",
    "        self.image = pygame.transform.scale(pygame.image.load(\"./Images/smallEnemy.png\"), (50,50))\n",
    "        self.rect = self.image.get_rect()\n",
    "        self.speed = speed\n",
    "        self.weapon = WeaponFactory.get(weapon_name)\n",
    "\n",
    "        self.name = name\n",
    "        self.health = default_health\n",
    "        self.movement_vector = [0, 0]\n",
    "        self.pos = list(pos)\n",
    "        self.last_shot_time = pygame.time.get_ticks()\n",
    "        \n",
    "    def move(self, enemies: pygame.sprite.Group, player_pos: tuple[float, float], tDelta: float):\n",
    "        self.movement_vector = (player_pos[0] - self.pos[0],\n",
    "                               player_pos[1] - self.pos[1])\n",
    "        self.movement_vector = Weapon.normalize_vector(self.movement_vector)\n",
    "        self.pos[0] += self.movement_vector[0] * self.speed * tDelta\n",
    "        self.pos[1] += self.movement_vector[1] * self.speed * tDelta\n",
    "        \n",
    "        # Collision test with other enemies\n",
    "        self.movement_vector = [0, 0]\n",
    "        for sprite in enemies:\n",
    "            if sprite is self:\n",
    "                continue\n",
    "            if pygame.sprite.collide_circle(self, sprite):\n",
    "                self.movement_vector[0] += self.pos[0] - sprite.pos[0]\n",
    "                self.movement_vector[1] += self.pos[1] - sprite.pos[1]\n",
    "\n",
    "        self.movement_vector = Weapon.normalize_vector(self.movement_vector)\n",
    "        self.pos[0] += self.movement_vector[0] * 0.5  # The constant is how far the sprite will be\n",
    "        self.pos[1] += self.movement_vector[1] * 0.5  # dragged from the sprite it collided with\n",
    "        \n",
    "        self.rect.topleft = self.pos\n",
    "\n",
    "    def attack(self, target_pos):\n",
    "        self.weapon.attack(self, target_pos, self.last_shot_time)\n",
    "        self.last_shot_time = pygame.time.get_ticks()\n",
    "\n",
    "    def render(self, surface):\n",
    "        surface.blit(self.image, self.pos)\n",
    "    "
   ]
  },
  {
   "cell_type": "code",
   "execution_count": 3,
   "metadata": {},
   "outputs": [
    {
     "name": "stdout",
     "output_type": "stream",
     "text": [
      "Memory usage before creating instances:\n",
      "function                      21628    +21628\n",
      "tuple                         12116    +12116\n",
      "dict                          10647    +10647\n",
      "ReferenceType                  5830     +5830\n",
      "list                           5806     +5806\n",
      "builtin_function_or_method     3715     +3715\n",
      "wrapper_descriptor             3255     +3255\n",
      "getset_descriptor              2944     +2944\n",
      "cell                           2901     +2901\n",
      "type                           2764     +2764\n",
      "Graph written to C:\\Users\\onoratoe\\AppData\\Local\\Temp\\objgraph-jj8koaed.dot (17 nodes)\n",
      "Image renderer (dot) not found, not doing anything else\n",
      "Graph written to C:\\Users\\onoratoe\\AppData\\Local\\Temp\\objgraph-epc1ven4.dot (31 nodes)\n",
      "Image renderer (dot) not found, not doing anything else\n",
      "Graph written to C:\\Users\\onoratoe\\AppData\\Local\\Temp\\objgraph-ivp2qydn.dot (23 nodes)\n",
      "Image renderer (dot) not found, not doing anything else\n",
      "Memory usage after creating instances:\n",
      "ReferenceType                  5832        +2\n",
      "builtin_function_or_method     3716        +1\n",
      "set                            1366        +1\n",
      "Random                            2        +1\n",
      "_RandomNameSequence               1        +1\n",
      "Interactive                       1        +1\n"
     ]
    }
   ],
   "source": [
    "enemyFlyweight = EnemyFactory.get(\"small\")\n",
    "enemy = Enemy(name = \"small\", pos=(0,0))\n",
    "no_flyweight_enemy = NoFlyWeightEnemy(name=\"small\", image=pygame.image.load(\"./Images/smallEnemy.png\"), weapon_name=\"melee\", speed=1, default_health=1, pos=(0,0))\n",
    "\n",
    "# Display memory growth before creating instances\n",
    "print(\"Memory usage before creating instances:\")\n",
    "objgraph.show_growth()\n",
    "\n",
    "# Create references graphs\n",
    "gc.collect()\n",
    "objgraph.show_refs(enemy, filename='memory_graph_enemy.png')\n",
    "objgraph.show_refs(no_flyweight_enemy, filename='memory_graph_no_flyweight.png')\n",
    "objgraph.show_refs(enemyFlyweight, filename='memory_graph_flyweight.png')\n",
    "\n",
    "# Display memory growth after creating instances\n",
    "print(\"Memory usage after creating instances:\")\n",
    "objgraph.show_growth()"
   ]
  },
  {
   "cell_type": "code",
   "execution_count": null,
   "metadata": {},
   "outputs": [],
   "source": []
  }
 ],
 "metadata": {
  "kernelspec": {
   "display_name": "Python 3",
   "language": "python",
   "name": "python3"
  },
  "language_info": {
   "codemirror_mode": {
    "name": "ipython",
    "version": 3
   },
   "file_extension": ".py",
   "mimetype": "text/x-python",
   "name": "python",
   "nbconvert_exporter": "python",
   "pygments_lexer": "ipython3",
   "version": "3.11.6"
  }
 },
 "nbformat": 4,
 "nbformat_minor": 2
}
