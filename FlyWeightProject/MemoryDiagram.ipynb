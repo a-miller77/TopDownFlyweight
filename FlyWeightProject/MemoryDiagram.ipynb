{
 "cells": [
  {
   "cell_type": "code",
<<<<<<< Updated upstream
   "execution_count": 10,
=======
   "execution_count": 9,
>>>>>>> Stashed changes
   "metadata": {},
   "outputs": [
    {
     "ename": "FileNotFoundError",
     "evalue": "No file 'FlyWeightProject/Images/projectile.png' found in working directory 'c:\\Users\\onoratoe\\OneDrive - Milwaukee School of Engineering\\Documents\\GitHub\\fall-2023-final-group-project-2pm-flyweight\\FlyWeightProject'.",
     "output_type": "error",
     "traceback": [
      "\u001b[1;31m---------------------------------------------------------------------------\u001b[0m",
      "\u001b[1;31mFileNotFoundError\u001b[0m                         Traceback (most recent call last)",
<<<<<<< Updated upstream
      "\u001b[1;32mc:\\Users\\onoratoe\\OneDrive - Milwaukee School of Engineering\\Documents\\GitHub\\fall-2023-final-group-project-2pm-flyweight\\FlyWeightProject\\MemoryDiagram.ipynb Cell 1\u001b[0m line \u001b[0;36m3\n\u001b[0;32m      <a href='vscode-notebook-cell:/c%3A/Users/onoratoe/OneDrive%20-%20Milwaukee%20School%20of%20Engineering/Documents/GitHub/fall-2023-final-group-project-2pm-flyweight/FlyWeightProject/MemoryDiagram.ipynb#X55sZmlsZQ%3D%3D?line=0'>1</a>\u001b[0m \u001b[39mimport\u001b[39;00m \u001b[39mobjgraph\u001b[39;00m \n\u001b[0;32m      <a href='vscode-notebook-cell:/c%3A/Users/onoratoe/OneDrive%20-%20Milwaukee%20School%20of%20Engineering/Documents/GitHub/fall-2023-final-group-project-2pm-flyweight/FlyWeightProject/MemoryDiagram.ipynb#X55sZmlsZQ%3D%3D?line=1'>2</a>\u001b[0m \u001b[39mimport\u001b[39;00m \u001b[39mpygame\u001b[39;00m\n\u001b[1;32m----> <a href='vscode-notebook-cell:/c%3A/Users/onoratoe/OneDrive%20-%20Milwaukee%20School%20of%20Engineering/Documents/GitHub/fall-2023-final-group-project-2pm-flyweight/FlyWeightProject/MemoryDiagram.ipynb#X55sZmlsZQ%3D%3D?line=2'>3</a>\u001b[0m \u001b[39mfrom\u001b[39;00m \u001b[39mProjectile\u001b[39;00m \u001b[39mimport\u001b[39;00m Projectile, Bomb\n\u001b[0;32m      <a href='vscode-notebook-cell:/c%3A/Users/onoratoe/OneDrive%20-%20Milwaukee%20School%20of%20Engineering/Documents/GitHub/fall-2023-final-group-project-2pm-flyweight/FlyWeightProject/MemoryDiagram.ipynb#X55sZmlsZQ%3D%3D?line=3'>4</a>\u001b[0m \u001b[39mimport\u001b[39;00m \u001b[39mEnemy\u001b[39;00m\n\u001b[0;32m      <a href='vscode-notebook-cell:/c%3A/Users/onoratoe/OneDrive%20-%20Milwaukee%20School%20of%20Engineering/Documents/GitHub/fall-2023-final-group-project-2pm-flyweight/FlyWeightProject/MemoryDiagram.ipynb#X55sZmlsZQ%3D%3D?line=4'>5</a>\u001b[0m \u001b[39mfrom\u001b[39;00m \u001b[39mPlayer\u001b[39;00m \u001b[39mimport\u001b[39;00m Player\n",
=======
      "\u001b[1;32mc:\\Users\\onoratoe\\OneDrive - Milwaukee School of Engineering\\Documents\\GitHub\\fall-2023-final-group-project-2pm-flyweight\\FlyWeightProject\\MemoryDiagram.ipynb Cell 1\u001b[0m line \u001b[0;36m3\n\u001b[0;32m      <a href='vscode-notebook-cell:/c%3A/Users/onoratoe/OneDrive%20-%20Milwaukee%20School%20of%20Engineering/Documents/GitHub/fall-2023-final-group-project-2pm-flyweight/FlyWeightProject/MemoryDiagram.ipynb#X51sZmlsZQ%3D%3D?line=0'>1</a>\u001b[0m \u001b[39mimport\u001b[39;00m \u001b[39mobjgraph\u001b[39;00m \n\u001b[0;32m      <a href='vscode-notebook-cell:/c%3A/Users/onoratoe/OneDrive%20-%20Milwaukee%20School%20of%20Engineering/Documents/GitHub/fall-2023-final-group-project-2pm-flyweight/FlyWeightProject/MemoryDiagram.ipynb#X51sZmlsZQ%3D%3D?line=1'>2</a>\u001b[0m \u001b[39mimport\u001b[39;00m \u001b[39mpygame\u001b[39;00m\n\u001b[1;32m----> <a href='vscode-notebook-cell:/c%3A/Users/onoratoe/OneDrive%20-%20Milwaukee%20School%20of%20Engineering/Documents/GitHub/fall-2023-final-group-project-2pm-flyweight/FlyWeightProject/MemoryDiagram.ipynb#X51sZmlsZQ%3D%3D?line=2'>3</a>\u001b[0m \u001b[39mfrom\u001b[39;00m \u001b[39mProjectile\u001b[39;00m \u001b[39mimport\u001b[39;00m Projectile, Bomb\n\u001b[0;32m      <a href='vscode-notebook-cell:/c%3A/Users/onoratoe/OneDrive%20-%20Milwaukee%20School%20of%20Engineering/Documents/GitHub/fall-2023-final-group-project-2pm-flyweight/FlyWeightProject/MemoryDiagram.ipynb#X51sZmlsZQ%3D%3D?line=3'>4</a>\u001b[0m \u001b[39mimport\u001b[39;00m \u001b[39mEnemy\u001b[39;00m\n\u001b[0;32m      <a href='vscode-notebook-cell:/c%3A/Users/onoratoe/OneDrive%20-%20Milwaukee%20School%20of%20Engineering/Documents/GitHub/fall-2023-final-group-project-2pm-flyweight/FlyWeightProject/MemoryDiagram.ipynb#X51sZmlsZQ%3D%3D?line=4'>5</a>\u001b[0m \u001b[39mfrom\u001b[39;00m \u001b[39mPlayer\u001b[39;00m \u001b[39mimport\u001b[39;00m Player\n",
>>>>>>> Stashed changes
      "File \u001b[1;32mc:\\Users\\onoratoe\\OneDrive - Milwaukee School of Engineering\\Documents\\GitHub\\fall-2023-final-group-project-2pm-flyweight\\FlyWeightProject\\Projectile.py:13\u001b[0m\n\u001b[0;32m     10\u001b[0m         \u001b[39mself\u001b[39m\u001b[39m.\u001b[39mspeed \u001b[39m=\u001b[39m speed\n\u001b[0;32m     11\u001b[0m         \u001b[39mself\u001b[39m\u001b[39m.\u001b[39mrect \u001b[39m=\u001b[39m \u001b[39mself\u001b[39m\u001b[39m.\u001b[39mimage\u001b[39m.\u001b[39mget_rect()      \n\u001b[1;32m---> 13\u001b[0m \u001b[39mclass\u001b[39;49;00m \u001b[39mProjectileFactory\u001b[39;49;00m:\n\u001b[0;32m     14\u001b[0m     __projectiles \u001b[39m=\u001b[39;49m {\n\u001b[0;32m     15\u001b[0m         \u001b[39m'\u001b[39;49m\u001b[39mbullet\u001b[39;49m\u001b[39m'\u001b[39;49m: ProjectileFlyweight(name\u001b[39m=\u001b[39;49m\u001b[39m'\u001b[39;49m\u001b[39mbullet\u001b[39;49m\u001b[39m'\u001b[39;49m, path\u001b[39m=\u001b[39;49m\u001b[39m'\u001b[39;49m\u001b[39mprojectile\u001b[39;49m\u001b[39m'\u001b[39;49m, speed\u001b[39m=\u001b[39;49m\u001b[39m1\u001b[39;49m, lifetime\u001b[39m=\u001b[39;49m\u001b[39m1000\u001b[39;49m, damage\u001b[39m=\u001b[39;49m\u001b[39m1\u001b[39;49m, pierce\u001b[39m=\u001b[39;49m\u001b[39m0\u001b[39;49m, image_size\u001b[39m=\u001b[39;49m(\u001b[39m5\u001b[39;49m,\u001b[39m5\u001b[39;49m)),\n\u001b[0;32m     16\u001b[0m         \u001b[39m'\u001b[39;49m\u001b[39mPiercingBullet\u001b[39;49m\u001b[39m'\u001b[39;49m: ProjectileFlyweight(name\u001b[39m=\u001b[39;49m\u001b[39m'\u001b[39;49m\u001b[39mPiercingBullet\u001b[39;49m\u001b[39m'\u001b[39;49m, path\u001b[39m=\u001b[39;49m\u001b[39m'\u001b[39;49m\u001b[39mprojectile\u001b[39;49m\u001b[39m'\u001b[39;49m, speed\u001b[39m=\u001b[39;49m\u001b[39m1\u001b[39;49m, lifetime\u001b[39m=\u001b[39;49m\u001b[39m1000\u001b[39;49m, damage\u001b[39m=\u001b[39;49m\u001b[39m1\u001b[39;49m, pierce\u001b[39m=\u001b[39;49m\u001b[39m1\u001b[39;49m, image_size\u001b[39m=\u001b[39;49m(\u001b[39m5\u001b[39;49m,\u001b[39m5\u001b[39;49m)),\n\u001b[1;32m   (...)\u001b[0m\n\u001b[0;32m     19\u001b[0m         \u001b[39m#'landmine': ProjectileFlyweight(name='landmine', path='bomb', speed=0, lifetime=1000, damage=1, pierce=0, image_size=(5,5)),\u001b[39;49;00m\n\u001b[0;32m     20\u001b[0m     }\n\u001b[0;32m     21\u001b[0m     image \u001b[39m=\u001b[39;49m pygame\u001b[39m.\u001b[39;49mtransform\u001b[39m.\u001b[39;49mscale(pygame\u001b[39m.\u001b[39;49mimage\u001b[39m.\u001b[39;49mload(\u001b[39m\"\u001b[39;49m\u001b[39mFlyWeightProject\u001b[39;49m\u001b[39m\\\u001b[39;49m\u001b[39mImages\u001b[39;49m\u001b[39m\\\u001b[39;49m\u001b[39mprojectile.png\u001b[39;49m\u001b[39m\"\u001b[39;49m), (\u001b[39m5\u001b[39;49m,\u001b[39m5\u001b[39;49m))\n",
      "File \u001b[1;32mc:\\Users\\onoratoe\\OneDrive - Milwaukee School of Engineering\\Documents\\GitHub\\fall-2023-final-group-project-2pm-flyweight\\FlyWeightProject\\Projectile.py:15\u001b[0m, in \u001b[0;36mProjectileFactory\u001b[1;34m()\u001b[0m\n\u001b[0;32m     13\u001b[0m \u001b[39mclass\u001b[39;00m \u001b[39mProjectileFactory\u001b[39;00m:\n\u001b[0;32m     14\u001b[0m     __projectiles \u001b[39m=\u001b[39m {\n\u001b[1;32m---> 15\u001b[0m         \u001b[39m'\u001b[39m\u001b[39mbullet\u001b[39m\u001b[39m'\u001b[39m: ProjectileFlyweight(name\u001b[39m=\u001b[39;49m\u001b[39m'\u001b[39;49m\u001b[39mbullet\u001b[39;49m\u001b[39m'\u001b[39;49m, path\u001b[39m=\u001b[39;49m\u001b[39m'\u001b[39;49m\u001b[39mprojectile\u001b[39;49m\u001b[39m'\u001b[39;49m, speed\u001b[39m=\u001b[39;49m\u001b[39m1\u001b[39;49m, lifetime\u001b[39m=\u001b[39;49m\u001b[39m1000\u001b[39;49m, damage\u001b[39m=\u001b[39;49m\u001b[39m1\u001b[39;49m, pierce\u001b[39m=\u001b[39;49m\u001b[39m0\u001b[39;49m, image_size\u001b[39m=\u001b[39;49m(\u001b[39m5\u001b[39;49m,\u001b[39m5\u001b[39;49m)),\n\u001b[0;32m     16\u001b[0m         \u001b[39m'\u001b[39m\u001b[39mPiercingBullet\u001b[39m\u001b[39m'\u001b[39m: ProjectileFlyweight(name\u001b[39m=\u001b[39m\u001b[39m'\u001b[39m\u001b[39mPiercingBullet\u001b[39m\u001b[39m'\u001b[39m, path\u001b[39m=\u001b[39m\u001b[39m'\u001b[39m\u001b[39mprojectile\u001b[39m\u001b[39m'\u001b[39m, speed\u001b[39m=\u001b[39m\u001b[39m1\u001b[39m, lifetime\u001b[39m=\u001b[39m\u001b[39m1000\u001b[39m, damage\u001b[39m=\u001b[39m\u001b[39m1\u001b[39m, pierce\u001b[39m=\u001b[39m\u001b[39m1\u001b[39m, image_size\u001b[39m=\u001b[39m(\u001b[39m5\u001b[39m,\u001b[39m5\u001b[39m)),\n\u001b[0;32m     17\u001b[0m         \u001b[39m'\u001b[39m\u001b[39mexplosion\u001b[39m\u001b[39m'\u001b[39m: ProjectileFlyweight(name\u001b[39m=\u001b[39m\u001b[39m'\u001b[39m\u001b[39mexplosion\u001b[39m\u001b[39m'\u001b[39m, path\u001b[39m=\u001b[39m\u001b[39m'\u001b[39m\u001b[39mexplosion\u001b[39m\u001b[39m'\u001b[39m, speed\u001b[39m=\u001b[39m\u001b[39m0\u001b[39m, lifetime\u001b[39m=\u001b[39m\u001b[39m100\u001b[39m, damage\u001b[39m=\u001b[39m\u001b[39m1\u001b[39m, pierce\u001b[39m=\u001b[39m\u001b[39m0\u001b[39m, image_size\u001b[39m=\u001b[39m(\u001b[39m50\u001b[39m,\u001b[39m50\u001b[39m)),\n\u001b[0;32m     18\u001b[0m         \u001b[39m'\u001b[39m\u001b[39mbomb\u001b[39m\u001b[39m'\u001b[39m: ProjectileFlyweight(name\u001b[39m=\u001b[39m\u001b[39m'\u001b[39m\u001b[39mbomb\u001b[39m\u001b[39m'\u001b[39m, path\u001b[39m=\u001b[39m\u001b[39m'\u001b[39m\u001b[39mlandmine\u001b[39m\u001b[39m'\u001b[39m, speed\u001b[39m=\u001b[39m\u001b[39m0\u001b[39m, lifetime\u001b[39m=\u001b[39m\u001b[39m1000\u001b[39m, damage\u001b[39m=\u001b[39m\u001b[39m1\u001b[39m, pierce\u001b[39m=\u001b[39m\u001b[39m0\u001b[39m, image_size\u001b[39m=\u001b[39m(\u001b[39m5\u001b[39m,\u001b[39m5\u001b[39m)),\n\u001b[0;32m     19\u001b[0m         \u001b[39m#'landmine': ProjectileFlyweight(name='landmine', path='bomb', speed=0, lifetime=1000, damage=1, pierce=0, image_size=(5,5)),\u001b[39;00m\n\u001b[0;32m     20\u001b[0m     }\n\u001b[0;32m     21\u001b[0m     image \u001b[39m=\u001b[39m pygame\u001b[39m.\u001b[39mtransform\u001b[39m.\u001b[39mscale(pygame\u001b[39m.\u001b[39mimage\u001b[39m.\u001b[39mload(\u001b[39m\"\u001b[39m\u001b[39mFlyWeightProject\u001b[39m\u001b[39m\\\u001b[39m\u001b[39mImages\u001b[39m\u001b[39m\\\u001b[39m\u001b[39mprojectile.png\u001b[39m\u001b[39m\"\u001b[39m), (\u001b[39m5\u001b[39m,\u001b[39m5\u001b[39m))\n\u001b[0;32m     23\u001b[0m     \u001b[39m@staticmethod\u001b[39m\n\u001b[0;32m     24\u001b[0m     \u001b[39mdef\u001b[39;00m \u001b[39mget\u001b[39m(name):\n",
      "File \u001b[1;32mc:\\Users\\onoratoe\\OneDrive - Milwaukee School of Engineering\\Documents\\GitHub\\fall-2023-final-group-project-2pm-flyweight\\FlyWeightProject\\Projectile.py:7\u001b[0m, in \u001b[0;36mProjectileFlyweight.__init__\u001b[1;34m(self, name, path, speed, lifetime, damage, pierce, image_size)\u001b[0m\n\u001b[0;32m      5\u001b[0m \u001b[39mself\u001b[39m\u001b[39m.\u001b[39mdamage \u001b[39m=\u001b[39m damage\n\u001b[0;32m      6\u001b[0m \u001b[39mself\u001b[39m\u001b[39m.\u001b[39mpierce \u001b[39m=\u001b[39m pierce   \n\u001b[1;32m----> 7\u001b[0m \u001b[39mself\u001b[39m\u001b[39m.\u001b[39mimage \u001b[39m=\u001b[39m pygame\u001b[39m.\u001b[39mtransform\u001b[39m.\u001b[39mscale(pygame\u001b[39m.\u001b[39;49mimage\u001b[39m.\u001b[39;49mload(\u001b[39mf\u001b[39;49m\u001b[39m\"\u001b[39;49m\u001b[39mFlyWeightProject/Images/\u001b[39;49m\u001b[39m{\u001b[39;49;00mpath\u001b[39m}\u001b[39;49;00m\u001b[39m.png\u001b[39;49m\u001b[39m\"\u001b[39;49m), image_size)\n\u001b[0;32m      8\u001b[0m \u001b[39mself\u001b[39m\u001b[39m.\u001b[39mlifetime \u001b[39m=\u001b[39m lifetime\n\u001b[0;32m      9\u001b[0m \u001b[39mself\u001b[39m\u001b[39m.\u001b[39mname \u001b[39m=\u001b[39m name\n",
      "\u001b[1;31mFileNotFoundError\u001b[0m: No file 'FlyWeightProject/Images/projectile.png' found in working directory 'c:\\Users\\onoratoe\\OneDrive - Milwaukee School of Engineering\\Documents\\GitHub\\fall-2023-final-group-project-2pm-flyweight\\FlyWeightProject'."
     ]
    }
   ],
   "source": [
    "import objgraph \n",
    "import pygame\n",
    "from Projectile import Projectile, Bomb\n",
    "import Enemy\n",
    "from Player import Player\n",
    "from  Weapon import WeaponFactory\n",
    "from Weapon import normalize_vector\n",
    "import gc\n",
    "from memory_profiler import profile"
   ]
  },
  {
   "cell_type": "code",
   "execution_count": null,
   "metadata": {},
   "outputs": [],
   "source": [
    "class NoFlyWeightEnemy():\n",
    "    projectiles = pygame.sprite.Group()\n",
    "    def __init__(self, name: str, image: pygame.Surface, weapon_name: str, speed: float, \n",
    "                 default_health: int, pos: tuple[float, float]):\n",
    "        super().__init__()\n",
    "        self.image = pygame.transform.scale(pygame.image.load(\"FlyWeightProject\\Images\\smallEnemy.png\"), (50,50))\n",
    "        self.rect = self.image.get_rect()\n",
    "        self.speed = speed\n",
    "        self.weapon = WeaponFactory.get(weapon_name)\n",
    "\n",
    "        self.name = name\n",
    "        self.health = default_health\n",
    "        self.movement_vector = [0, 0]\n",
    "        self.pos = list(pos)\n",
    "        self.last_shot_time = pygame.time.get_ticks()\n",
    "        \n",
    "    def move(self, enemies: pygame.sprite.Group, player_pos: tuple[float, float], tDelta: float):\n",
    "        self.movement_vector = (player_pos[0] - self.pos[0],\n",
    "                               player_pos[1] - self.pos[1])\n",
    "        self.movement_vector = normalize_vector(self.movementVector)\n",
    "        self.pos[0] += self.movement_vector[0] * self.speed * tDelta\n",
    "        self.pos[1] += self.movement_vector[1] * self.speed * tDelta\n",
    "        \n",
    "        # Collision test with other enemies\n",
    "        self.movementVector = [0, 0]\n",
    "        for sprite in enemies:\n",
    "            if sprite is self:\n",
    "                continue\n",
    "            if pygame.sprite.collide_circle(self, sprite):\n",
    "                self.movement_vector[0] += self.pos[0] - sprite.pos[0]\n",
    "                self.movement_vector[1] += self.pos[1] - sprite.pos[1]\n",
    "\n",
    "        self.movement_vector = normalize_vector(self.movement_vector)\n",
    "        self.pos[0] += self.movement_vector[0] * 0.5  # The constant is how far the sprite will be\n",
    "        self.pos[1] += self.movement_vector[1] * 0.5  # dragged from the sprite it collided with\n",
    "        \n",
    "        self.rect.topleft = self.pos\n",
    "\n",
    "    def attack(self, target_pos):\n",
    "        self.weapon.attack(self, target_pos, self.last_shot_time)\n",
    "        self.last_shot_time = pygame.time.get_ticks()\n",
    "\n",
    "    def render(self, surface):\n",
    "        surface.blit(self.image, self.pos)\n",
    "    "
   ]
  },
  {
   "cell_type": "code",
   "execution_count": null,
   "metadata": {},
   "outputs": [],
   "source": [
    "def create_instance():\n",
    "    instances = []\n",
    "    for i in range(10000):\n",
    "        instances.append(NoFlyWeightEnemy(\"enemy\", \"image\", \"weapon\", 1, 1, (0,0)))\n",
    "    return instances\n",
    "        "
   ]
  },
  {
   "cell_type": "code",
   "execution_count": null,
   "metadata": {},
   "outputs": [],
   "source": [
    "create_instance()\n",
    "enemy = Enemy(name=\"Enemy\", image=pygame.image.load(\"FlyWeightProject\\Images\\smallEnemy.png\"), weapon_name=\"melee\", speed=1, default_health=1, pos=(0,0)\n",
    "no_flyweight_enemy = NoFlyWeightEnemy()\n",
    "\n",
    "gc.collect()\n",
    "objgraph.show_refs([enemy, no_flyweight_enemy], filename='memory_graph.png')"
   ]
  }
 ],
 "metadata": {
  "kernelspec": {
   "display_name": "Python 3",
   "language": "python",
   "name": "python3"
  },
  "language_info": {
   "codemirror_mode": {
    "name": "ipython",
    "version": 3
   },
   "file_extension": ".py",
   "mimetype": "text/x-python",
   "name": "python",
   "nbconvert_exporter": "python",
   "pygments_lexer": "ipython3",
   "version": "3.11.6"
  }
 },
 "nbformat": 4,
 "nbformat_minor": 2
}
