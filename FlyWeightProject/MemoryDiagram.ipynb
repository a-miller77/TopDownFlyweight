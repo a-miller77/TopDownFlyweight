{
 "cells": [
  {
   "cell_type": "code",
   "execution_count": 1,
   "metadata": {},
   "outputs": [
    {
     "name": "stdout",
     "output_type": "stream",
     "text": [
      "pygame 2.5.2 (SDL 2.28.3, Python 3.11.6)\n",
      "Hello from the pygame community. https://www.pygame.org/contribute.html\n"
     ]
    }
   ],
   "source": [
    "import objgraph \n",
    "import pygame\n",
    "from Projectile import Projectile, Bomb\n",
    "from Enemy import Enemy, EnemyFactory\n",
    "from Player import Player\n",
    "from  Weapon import WeaponFactory\n",
    "from Weapon import Weapon\n",
    "import gc"
   ]
  },
  {
   "cell_type": "code",
   "execution_count": 2,
   "metadata": {},
   "outputs": [],
   "source": [
    "class NoFlyWeightEnemy():\n",
    "    projectiles = pygame.sprite.Group()\n",
    "    def __init__(self, name: str, image: pygame.Surface, weapon_name: str, speed: float, \n",
    "                 default_health: int, pos: tuple[float, float]):\n",
    "        super().__init__()\n",
    "        self.image = pygame.transform.scale(pygame.image.load(\"./Images/smallEnemy.png\"), (50,50))\n",
    "        self.rect = self.image.get_rect()\n",
    "        self.speed = speed\n",
    "        self.weapon = WeaponFactory.get(weapon_name)\n",
    "\n",
    "        self.name = name\n",
    "        self.health = default_health\n",
    "        self.movement_vector = [0, 0]\n",
    "        self.pos = list(pos)\n",
    "        self.last_shot_time = pygame.time.get_ticks()\n",
    "        \n",
    "    def move(self, enemies: pygame.sprite.Group, player_pos: tuple[float, float], tDelta: float):\n",
    "        self.movement_vector = (player_pos[0] - self.pos[0],\n",
    "                               player_pos[1] - self.pos[1])\n",
    "        self.movement_vector = Weapon.normalize_vector(self.movement_vector)\n",
    "        self.pos[0] += self.movement_vector[0] * self.speed * tDelta\n",
    "        self.pos[1] += self.movement_vector[1] * self.speed * tDelta\n",
    "        \n",
    "        # Collision test with other enemies\n",
    "        self.movement_vector = [0, 0]\n",
    "        for sprite in enemies:\n",
    "            if sprite is self:\n",
    "                continue\n",
    "            if pygame.sprite.collide_circle(self, sprite):\n",
    "                self.movement_vector[0] += self.pos[0] - sprite.pos[0]\n",
    "                self.movement_vector[1] += self.pos[1] - sprite.pos[1]\n",
    "\n",
    "        self.movement_vector = Weapon.normalize_vector(self.movement_vector)\n",
    "        self.pos[0] += self.movement_vector[0] * 0.5  # The constant is how far the sprite will be\n",
    "        self.pos[1] += self.movement_vector[1] * 0.5  # dragged from the sprite it collided with\n",
    "        \n",
    "        self.rect.topleft = self.pos\n",
    "\n",
    "    def attack(self, target_pos):\n",
    "        self.weapon.attack(self, target_pos, self.last_shot_time)\n",
    "        self.last_shot_time = pygame.time.get_ticks()\n",
    "\n",
    "    def render(self, surface):\n",
    "        surface.blit(self.image, self.pos)\n",
    "    "
   ]
  },
  {
   "cell_type": "code",
   "execution_count": 3,
   "metadata": {},
   "outputs": [
    {
     "name": "stdout",
     "output_type": "stream",
     "text": [
      "Memory usage before creating instances:\n",
      "function                      21788    +21788\n",
      "tuple                         12286    +12286\n",
      "dict                          10792    +10792\n",
      "list                           5899     +5899\n",
      "ReferenceType                  5865     +5865\n",
      "builtin_function_or_method     3717     +3717\n",
      "wrapper_descriptor             3255     +3255\n",
      "cell                           3022     +3022\n",
      "getset_descriptor              2964     +2964\n",
      "type                           2799     +2799\n",
      "Memory usage after creating instances:\n",
      "list            5900        +1\n",
      "set             1378        +1\n",
      "method          2446        +1\n",
      "lock              45        +1\n",
      "Enemy              1        +1\n",
      "Interactive        1        +1\n"
     ]
    }
   ],
   "source": [
    "# Display memory growth before creating instances\n",
    "print(\"Memory usage before creating instances:\")\n",
    "objgraph.show_growth()\n",
    "\n",
    "# create more instances of each enemy type\n",
    "for i in range(1000):\n",
    "    enemy = Enemy(name = \"small\", pos=(0,0))\n",
    "\n",
    "# Display memory growth after creating instances\n",
    "print(\"Memory usage after creating instances:\")\n",
    "objgraph.show_growth()\n"
   ]
  },
  {
   "cell_type": "code",
   "execution_count": 4,
   "metadata": {},
   "outputs": [
    {
     "name": "stdout",
     "output_type": "stream",
     "text": [
      "Memory usage before creating instances:\n",
      "dict             10800        +8\n",
      "list              5904        +4\n",
      "Constant            10        +4\n",
      "keyword              6        +4\n",
      "Attribute            4        +2\n",
      "ReferenceType     5866        +1\n",
      "Call                 7        +1\n",
      "Name                 9        +1\n",
      "Memory usage after creating instances:\n",
      "list                 5905        +1\n",
      "NoFlyWeightEnemy        1        +1\n"
     ]
    }
   ],
   "source": [
    "#Display memory growth before creating instances\n",
    "print(\"Memory usage before creating instances:\")\n",
    "objgraph.show_growth()\n",
    "\n",
    "for i in range(1000):\n",
    "    no_flyweight_enemy = NoFlyWeightEnemy(name = \"small\", image=pygame.image.load(\"./Images/smallEnemy.png\"), weapon_name=\"small\", speed=1, default_health=1, pos=(0,0))\n",
    "\n",
    "# Display memory growth after creating instances\n",
    "print(\"Memory usage after creating instances:\")\n",
    "objgraph.show_growth()"
   ]
  },
  {
   "cell_type": "code",
   "execution_count": 5,
   "metadata": {},
   "outputs": [
    {
     "name": "stdout",
     "output_type": "stream",
     "text": [
      "Memory usage before creating instances:\n",
      "ReferenceType     5867        +1\n",
      "tuple            12287        +1\n",
      "Memory usage after creating instances:\n"
     ]
    }
   ],
   "source": [
    "# Display memory growth before creating instances\n",
    "print(\"Memory usage before creating instances:\")\n",
    "objgraph.show_growth()\n",
    "\n",
    "for i in range(1000):\n",
    "    enemyFlyweight = EnemyFactory.get(\"small\")\n",
    "\n",
    "# Display memory growth after creating instances\n",
    "print(\"Memory usage after creating instances:\")\n",
    "objgraph.show_growth()"
   ]
  },
  {
   "cell_type": "code",
   "execution_count": 6,
   "metadata": {},
   "outputs": [
    {
     "name": "stdout",
     "output_type": "stream",
     "text": [
      "Graph written to C:\\Users\\onoratoe\\AppData\\Local\\Temp\\objgraph-tvjx3da7.dot (17 nodes)"
     ]
    },
    {
     "name": "stdout",
     "output_type": "stream",
     "text": [
      "\n",
      "Image renderer (dot) not found, not doing anything else\n",
      "Graph written to C:\\Users\\onoratoe\\AppData\\Local\\Temp\\objgraph-b78vfiqg.dot (22 nodes)\n",
      "Image renderer (dot) not found, not doing anything else\n",
      "Graph written to C:\\Users\\onoratoe\\AppData\\Local\\Temp\\objgraph-un1znepd.dot (23 nodes)\n",
      "Image renderer (dot) not found, not doing anything else\n"
     ]
    }
   ],
   "source": [
    "# Create references graphs\n",
    "objgraph.show_refs(enemy, filename='memory_graph_enemy.png')\n",
    "objgraph.show_refs(no_flyweight_enemy, filename='memory_graph_no_flyweight.png')\n",
    "objgraph.show_refs(enemyFlyweight, filename='memory_graph_flyweight.png')"
   ]
  }
 ],
 "metadata": {
  "kernelspec": {
   "display_name": "Python 3",
   "language": "python",
   "name": "python3"
  },
  "language_info": {
   "codemirror_mode": {
    "name": "ipython",
    "version": 3
   },
   "file_extension": ".py",
   "mimetype": "text/x-python",
   "name": "python",
   "nbconvert_exporter": "python",
   "pygments_lexer": "ipython3",
   "version": "3.11.6"
  }
 },
 "nbformat": 4,
 "nbformat_minor": 2
}
