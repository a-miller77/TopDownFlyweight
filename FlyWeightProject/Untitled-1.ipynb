{
 "cells": [
  {
   "cell_type": "code",
   "execution_count": null,
   "metadata": {},
   "outputs": [
    {
     "ename": "",
     "evalue": "",
     "output_type": "error",
     "traceback": [
      "\u001b[1;31mRunning cells with 'c:\\Users\\rubioreyesa\\AppData\\Local\\Microsoft\\WindowsApps\\python3.11.exe' requires the ipykernel package.\n",
      "\u001b[1;31mRun the following command to install 'ipykernel' into the Python environment. \n",
      "\u001b[1;31mCommand: 'c:/Users/rubioreyesa/AppData/Local/Microsoft/WindowsApps/python3.11.exe -m pip install ipykernel -U --user --force-reinstall'"
     ]
    }
   ],
   "source": [
    "import objgraph \n",
    "import pygame\n",
    "import Enemy\n",
    "\n"
   ]
  },
  {
   "cell_type": "code",
   "execution_count": null,
   "metadata": {},
   "outputs": [],
   "source": [
    "from  Weapon import WeaponFactory\n",
    "from Weapon import normalize_vector\n",
    "\n",
    "class NoFlyWeightEnemy():\n",
    "    projectiles = pygame.sprite.Group()\n",
    "    def __init__(self, name: str, image: pygame.Surface, weapon_name: str, speed: float, \n",
    "                 default_health: int, pos: tuple[float, float]):\n",
    "        super().__init__()\n",
    "        self.image = pygame.transform.scale(pygame.image.load(\"FlyWeightProject\\Images\\smallEnemy.png\"), (50,50))\n",
    "        self.rect = self.image.get_rect()\n",
    "        self.speed = speed\n",
    "        self.weapon = WeaponFactory.get(weapon_name)\n",
    "\n",
    "        self.name = name\n",
    "        self.health = default_health\n",
    "        self.movement_vector = [0, 0]\n",
    "        self.pos = list(pos)\n",
    "        self.last_shot_time = pygame.time.get_ticks()\n",
    "        \n",
    "    def move(self, enemies: pygame.sprite.Group, player_pos: tuple[float, float], tDelta: float):\n",
    "        self.movement_vector = (player_pos[0] - self.pos[0],\n",
    "                               player_pos[1] - self.pos[1])\n",
    "        self.movement_vector = normalize_vector(self.movementVector)\n",
    "        self.pos[0] += self.movement_vector[0] * self.speed * tDelta\n",
    "        self.pos[1] += self.movement_vector[1] * self.speed * tDelta\n",
    "        \n",
    "        # Collision test with other enemies\n",
    "        self.movementVector = [0, 0]\n",
    "        for sprite in enemies:\n",
    "            if sprite is self:\n",
    "                continue\n",
    "            if pygame.sprite.collide_circle(self, sprite):\n",
    "                self.movement_vector[0] += self.pos[0] - sprite.pos[0]\n",
    "                self.movement_vector[1] += self.pos[1] - sprite.pos[1]\n",
    "\n",
    "        self.movement_vector = normalize_vector(self.movement_vector)\n",
    "        self.pos[0] += self.movement_vector[0] * 0.5  # The constant is how far the sprite will be\n",
    "        self.pos[1] += self.movement_vector[1] * 0.5  # dragged from the sprite it collided with\n",
    "        \n",
    "        self.rect.topleft = self.pos\n",
    "\n",
    "    def attack(self, target_pos):\n",
    "        self.weapon.attack(self, target_pos, self.last_shot_time)\n",
    "        self.last_shot_time = pygame.time.get_ticks()\n",
    "\n",
    "    def render(self, surface):\n",
    "        surface.blit(self.image, self.pos)\n",
    "    "
   ]
  },
  {
   "cell_type": "code",
   "execution_count": null,
   "metadata": {},
   "outputs": [],
   "source": [
    "no_flyweight_enemy = NoFlyWeightEnemy()\n"
   ]
  }
 ],
 "metadata": {
  "kernelspec": {
   "display_name": "Python 3",
   "language": "python",
   "name": "python3"
  },
  "language_info": {
   "codemirror_mode": {
    "name": "ipython",
    "version": 3
   },
   "file_extension": ".py",
   "mimetype": "text/x-python",
   "name": "python",
   "nbconvert_exporter": "python",
   "pygments_lexer": "ipython3",
   "version": "3.11.6"
  }
 },
 "nbformat": 4,
 "nbformat_minor": 2
}
